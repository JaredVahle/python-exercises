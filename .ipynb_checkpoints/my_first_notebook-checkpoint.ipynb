{
 "cells": [
  {
   "cell_type": "code",
   "execution_count": 1,
   "id": "d260b5a8",
   "metadata": {},
   "outputs": [],
   "source": [
    "# command + a --add cell above--\n",
    "# command + b --add cell below--"
   ]
  },
  {
   "cell_type": "code",
   "execution_count": 2,
   "id": "abae368f",
   "metadata": {},
   "outputs": [],
   "source": [
    "# in command mode + d + d --deletes the cell that is currently highlighted--"
   ]
  },
  {
   "cell_type": "code",
   "execution_count": 3,
   "id": "28f8312d",
   "metadata": {},
   "outputs": [],
   "source": [
    "# command + s --save and checkpoint--"
   ]
  },
  {
   "cell_type": "code",
   "execution_count": 1,
   "id": "0cabe2bb",
   "metadata": {},
   "outputs": [
    {
     "name": "stdout",
     "output_type": "stream",
     "text": [
      "hello world\n"
     ]
    }
   ],
   "source": [
    "print(\"hello world\")"
   ]
  },
  {
   "cell_type": "code",
   "execution_count": 2,
   "id": "cdc25fd1",
   "metadata": {},
   "outputs": [],
   "source": [
    "x = 37"
   ]
  },
  {
   "cell_type": "code",
   "execution_count": 3,
   "id": "6290fdea",
   "metadata": {},
   "outputs": [
    {
     "data": {
      "text/plain": [
       "148"
      ]
     },
     "execution_count": 3,
     "metadata": {},
     "output_type": "execute_result"
    }
   ],
   "source": [
    "4 * x"
   ]
  },
  {
   "cell_type": "markdown",
   "id": "2b1dcf32",
   "metadata": {},
   "source": [
    "# LIST OF A FEW COMMANDS\n",
    "- `esc` puts you into command mode\n",
    "- `enter` puts you into edit mode\n",
    "- `command + y` in edit mode is an auto undo\n",
    "- command mode `z` is an undo across the notebook\n",
    "- command mode `y` puts you in code mode\n",
    "- command mode `m` puts you into markdown mode\n"
   ]
  },
  {
   "cell_type": "code",
   "execution_count": null,
   "id": "ee942d5f",
   "metadata": {},
   "outputs": [],
   "source": []
  }
 ],
 "metadata": {
  "kernelspec": {
   "display_name": "Python 3",
   "language": "python",
   "name": "python3"
  },
  "language_info": {
   "codemirror_mode": {
    "name": "ipython",
    "version": 3
   },
   "file_extension": ".py",
   "mimetype": "text/x-python",
   "name": "python",
   "nbconvert_exporter": "python",
   "pygments_lexer": "ipython3",
   "version": "3.8.8"
  }
 },
 "nbformat": 4,
 "nbformat_minor": 5
}
