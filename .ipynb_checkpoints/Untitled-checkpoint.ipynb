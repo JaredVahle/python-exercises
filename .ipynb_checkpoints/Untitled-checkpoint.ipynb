{
 "cells": [
  {
   "cell_type": "code",
   "execution_count": 1,
   "id": "d260b5a8",
   "metadata": {},
   "outputs": [],
   "source": [
    "# command + a --add cell above--\n",
    "# command + b --add cell below--"
   ]
  },
  {
   "cell_type": "code",
   "execution_count": 2,
   "id": "abae368f",
   "metadata": {},
   "outputs": [],
   "source": [
    "# in command mode + d + d --deletes the cell that is currently highlighted--"
   ]
  },
  {
   "cell_type": "code",
   "execution_count": 3,
   "id": "28f8312d",
   "metadata": {},
   "outputs": [],
   "source": [
    "# command + s --save and checkpoint--"
   ]
  },
  {
   "cell_type": "code",
   "execution_count": null,
   "id": "0cabe2bb",
   "metadata": {},
   "outputs": [],
   "source": []
  }
 ],
 "metadata": {
  "kernelspec": {
   "display_name": "Python 3",
   "language": "python",
   "name": "python3"
  },
  "language_info": {
   "codemirror_mode": {
    "name": "ipython",
    "version": 3
   },
   "file_extension": ".py",
   "mimetype": "text/x-python",
   "name": "python",
   "nbconvert_exporter": "python",
   "pygments_lexer": "ipython3",
   "version": "3.8.8"
  }
 },
 "nbformat": 4,
 "nbformat_minor": 5
}
