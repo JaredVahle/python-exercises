{
 "cells": [
  {
   "cell_type": "code",
   "execution_count": 1,
   "id": "74cfd07b",
   "metadata": {},
   "outputs": [],
   "source": [
    "# math is part of the python standard library\n",
    "import math"
   ]
  },
  {
   "cell_type": "code",
   "execution_count": 2,
   "id": "c3fc222d",
   "metadata": {},
   "outputs": [
    {
     "data": {
      "text/plain": [
       "3"
      ]
     },
     "execution_count": 2,
     "metadata": {},
     "output_type": "execute_result"
    }
   ],
   "source": [
    "# module.function_name() to make a function call\n",
    "math.ceil(2.4)"
   ]
  },
  {
   "cell_type": "code",
   "execution_count": 3,
   "id": "042080c2",
   "metadata": {},
   "outputs": [
    {
     "data": {
      "text/plain": [
       "120"
      ]
     },
     "execution_count": 3,
     "metadata": {},
     "output_type": "execute_result"
    }
   ],
   "source": [
    "math.factorial(5)"
   ]
  },
  {
   "cell_type": "code",
   "execution_count": 4,
   "id": "1cb6a39a",
   "metadata": {},
   "outputs": [],
   "source": [
    "#math. + tab will give you a list of all the calls"
   ]
  },
  {
   "cell_type": "code",
   "execution_count": 5,
   "id": "1aabf6e6",
   "metadata": {},
   "outputs": [],
   "source": [
    "#if youre in jupyter notebook or ipython you can do: module_name.<tab> to show all -\n",
    "#-functions"
   ]
  },
  {
   "cell_type": "code",
   "execution_count": 6,
   "id": "5932d2cd",
   "metadata": {},
   "outputs": [],
   "source": [
    "# Importing a specific function from a module\n",
    "# from module import function\n",
    "from time import sleep"
   ]
  },
  {
   "cell_type": "code",
   "execution_count": 7,
   "id": "af61ba21",
   "metadata": {},
   "outputs": [
    {
     "name": "stdout",
     "output_type": "stream",
     "text": [
      "Hello\n"
     ]
    }
   ],
   "source": [
    "sleep(3)\n",
    "print(\"Hello\")"
   ]
  },
  {
   "cell_type": "code",
   "execution_count": 8,
   "id": "bab2dc5d",
   "metadata": {},
   "outputs": [
    {
     "data": {
      "text/plain": [
       "(0.0, 1.0, 0.0)"
      ]
     },
     "execution_count": 8,
     "metadata": {},
     "output_type": "execute_result"
    }
   ],
   "source": [
    "# Multiple function imports from a module\n",
    "from math import tan, cos, sin\n",
    "\n",
    "tan(0), cos(0), sin(0)"
   ]
  },
  {
   "cell_type": "code",
   "execution_count": 9,
   "id": "4967860f",
   "metadata": {},
   "outputs": [],
   "source": [
    "# We'll be doing these imports a TON through the rest of the course\n",
    "# its common to alias enitre modules\n",
    "import pandas as pd\n",
    "import numpy as np"
   ]
  },
  {
   "cell_type": "code",
   "execution_count": 10,
   "id": "7a8396c7",
   "metadata": {},
   "outputs": [
    {
     "name": "stdout",
     "output_type": "stream",
     "text": [
      "the sleep function is now wait\n"
     ]
    }
   ],
   "source": [
    "from time import sleep as wait\n",
    "wait(5)\n",
    "print(\"the sleep function is now wait\")"
   ]
  },
  {
   "cell_type": "code",
   "execution_count": 11,
   "id": "bb95c63b",
   "metadata": {},
   "outputs": [
    {
     "ename": "ModuleNotFoundError",
     "evalue": "No module named 'util'",
     "output_type": "error",
     "traceback": [
      "\u001b[0;31m---------------------------------------------------------------------------\u001b[0m",
      "\u001b[0;31mModuleNotFoundError\u001b[0m                       Traceback (most recent call last)",
      "\u001b[0;32m<ipython-input-11-3c03b4e3ec99>\u001b[0m in \u001b[0;36m<module>\u001b[0;34m\u001b[0m\n\u001b[1;32m      2\u001b[0m \u001b[0;31m# import file_name avoiding the .py part\u001b[0m\u001b[0;34m\u001b[0m\u001b[0;34m\u001b[0m\u001b[0;34m\u001b[0m\u001b[0m\n\u001b[1;32m      3\u001b[0m \u001b[0;31m# if we had a file named util with an isvowel() and isconsenent()\u001b[0m\u001b[0;34m\u001b[0m\u001b[0;34m\u001b[0m\u001b[0;34m\u001b[0m\u001b[0m\n\u001b[0;32m----> 4\u001b[0;31m \u001b[0;32mimport\u001b[0m \u001b[0mutil\u001b[0m\u001b[0;34m\u001b[0m\u001b[0;34m\u001b[0m\u001b[0m\n\u001b[0m",
      "\u001b[0;31mModuleNotFoundError\u001b[0m: No module named 'util'"
     ]
    }
   ],
   "source": [
    "#importing from our own .py script files\n",
    "# import file_name avoiding the .py part\n",
    "# if we had a file named util.py with an isvowel() and isconsenent()\n",
    "#import util"
   ]
  },
  {
   "cell_type": "code",
   "execution_count": 12,
   "id": "6e4fa270",
   "metadata": {},
   "outputs": [],
   "source": [
    "#is_vowel(\"i\")"
   ]
  },
  {
   "cell_type": "code",
   "execution_count": null,
   "id": "74957f75",
   "metadata": {},
   "outputs": [],
   "source": []
  },
  {
   "cell_type": "code",
   "execution_count": 17,
   "id": "7a0ff082",
   "metadata": {},
   "outputs": [],
   "source": [
    "def normalize_name(name):\n",
    "    # creating an empty string\n",
    "    normalized_name = \"\"\n",
    "    name = name.lower()\n",
    "    # making a trip wire for my while statement\n",
    "    starter = True\n",
    "    while starter == True:\n",
    "        # enumerating name so i can find the index of the first position that has an _ or a letter\n",
    "        for index, letter in enumerate(name):\n",
    "            if letter.isalpha() or letter == \"_\":\n",
    "                start = index\n",
    "                starter = False\n",
    "                break\n",
    "    # changing the new name to a string with the beginning index at where an _ or letter starts\n",
    "    new_name = name[int(start):]\n",
    "    for letter in new_name:\n",
    "        if letter == \" \":\n",
    "            normalized_name += \"_\"\n",
    "        elif letter.isalpha() or letter.isnumeric() or letter == \"_\":\n",
    "            normalized_name += letter\n",
    "            \n",
    "    return normalized_name"
   ]
  },
  {
   "cell_type": "code",
   "execution_count": 18,
   "id": "1ae21710",
   "metadata": {},
   "outputs": [
    {
     "data": {
      "text/plain": [
       "'this_is_a__function'"
      ]
     },
     "execution_count": 18,
     "metadata": {},
     "output_type": "execute_result"
    }
   ],
   "source": [
    "normalize_name(\"   %   3. 5  thIs is a %%% function\")"
   ]
  },
  {
   "cell_type": "code",
   "execution_count": 19,
   "id": "9002136c",
   "metadata": {},
   "outputs": [
    {
     "data": {
      "text/plain": [
       "'this_is_a__function'"
      ]
     },
     "execution_count": 19,
     "metadata": {},
     "output_type": "execute_result"
    }
   ],
   "source": [
    "normalize_name(\"   %   3. 5  thIs is a %%% function\")"
   ]
  },
  {
   "cell_type": "code",
   "execution_count": null,
   "id": "235b4239",
   "metadata": {},
   "outputs": [],
   "source": []
  }
 ],
 "metadata": {
  "kernelspec": {
   "display_name": "Python 3",
   "language": "python",
   "name": "python3"
  },
  "language_info": {
   "codemirror_mode": {
    "name": "ipython",
    "version": 3
   },
   "file_extension": ".py",
   "mimetype": "text/x-python",
   "name": "python",
   "nbconvert_exporter": "python",
   "pygments_lexer": "ipython3",
   "version": "3.8.8"
  }
 },
 "nbformat": 4,
 "nbformat_minor": 5
}
