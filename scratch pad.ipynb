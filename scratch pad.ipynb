{
 "cells": [
  {
   "cell_type": "code",
   "execution_count": 2,
   "id": "6cf73aa9",
   "metadata": {},
   "outputs": [
    {
     "ename": "NameError",
     "evalue": "name 'drinks' is not defined",
     "output_type": "error",
     "traceback": [
      "\u001b[0;31m---------------------------------------------------------------------------\u001b[0m",
      "\u001b[0;31mNameError\u001b[0m                                 Traceback (most recent call last)",
      "\u001b[0;32m<ipython-input-2-c63e779753c5>\u001b[0m in \u001b[0;36m<module>\u001b[0;34m\u001b[0m\n\u001b[1;32m      1\u001b[0m \u001b[0mtotal\u001b[0m \u001b[0;34m=\u001b[0m \u001b[0;36m0\u001b[0m\u001b[0;34m\u001b[0m\u001b[0;34m\u001b[0m\u001b[0m\n\u001b[0;32m----> 2\u001b[0;31m \u001b[0;32mfor\u001b[0m \u001b[0mdrink\u001b[0m \u001b[0;32min\u001b[0m \u001b[0mdrinks\u001b[0m\u001b[0;34m:\u001b[0m\u001b[0;34m\u001b[0m\u001b[0;34m\u001b[0m\u001b[0m\n\u001b[0m\u001b[1;32m      3\u001b[0m     \u001b[0mresult\u001b[0m \u001b[0;34m=\u001b[0m \u001b[0mdrink\u001b[0m\u001b[0;34m[\u001b[0m\u001b[0;34m\"calories\"\u001b[0m\u001b[0;34m]\u001b[0m \u001b[0;34m*\u001b[0m \u001b[0mdrink\u001b[0m\u001b[0;34m[\u001b[0m\u001b[0;34m\"number_consumed\"\u001b[0m\u001b[0;34m]\u001b[0m\u001b[0;34m\u001b[0m\u001b[0;34m\u001b[0m\u001b[0m\n\u001b[1;32m      4\u001b[0m     \u001b[0mresult\u001b[0m \u001b[0;34m+=\u001b[0m \u001b[0mtotal\u001b[0m\u001b[0;34m\u001b[0m\u001b[0;34m\u001b[0m\u001b[0m\n\u001b[1;32m      5\u001b[0m \u001b[0mprint\u001b[0m\u001b[0;34m(\u001b[0m\u001b[0mtotal\u001b[0m\u001b[0;34m)\u001b[0m\u001b[0;34m\u001b[0m\u001b[0;34m\u001b[0m\u001b[0m\n",
      "\u001b[0;31mNameError\u001b[0m: name 'drinks' is not defined"
     ]
    }
   ],
   "source": [
    "total = 0\n",
    "for drink in drinks:\n",
    "    result = drink[\"calories\"] * drink[\"number_consumed\"]\n",
    "    result += total\n",
    "print(total)"
   ]
  },
  {
   "cell_type": "code",
   "execution_count": null,
   "id": "65cfd016",
   "metadata": {},
   "outputs": [],
   "source": [
    "i = input(\"pick a number preferably 3-10:\")"
   ]
  },
  {
   "cell_type": "code",
   "execution_count": 21,
   "id": "82ae5476",
   "metadata": {},
   "outputs": [],
   "source": [
    "def square_cubed_table ():\n",
    "    i = input(\"pick a number preferably 3-10:\")\n",
    "    print(\"number | squared | cubed\")\n",
    "    print(\"-------|---------|------\")\n",
    "    for num in range(1,int(i)):\n",
    "        print(f\" {num: <4}  | {num ** 2: <6}  | {num ** 3}\")\n",
    "        \n",
    "        "
   ]
  },
  {
   "cell_type": "code",
   "execution_count": 22,
   "id": "ba774df9",
   "metadata": {},
   "outputs": [
    {
     "name": "stdout",
     "output_type": "stream",
     "text": [
      "pick a number preferably 3-10:9\n",
      "number | squared | cubed\n",
      "-------|---------|------\n",
      " 1     | 1       | 1\n",
      " 2     | 4       | 8\n",
      " 3     | 9       | 27\n",
      " 4     | 16      | 64\n",
      " 5     | 25      | 125\n",
      " 6     | 36      | 216\n",
      " 7     | 49      | 343\n",
      " 8     | 64      | 512\n"
     ]
    }
   ],
   "source": [
    "square_cubed_table ()"
   ]
  },
  {
   "cell_type": "code",
   "execution_count": null,
   "id": "90bd4fe3",
   "metadata": {},
   "outputs": [],
   "source": [
    "grade = int(input(\"what grade did you get on this test?:\"))\n",
    "if grade.isdigit:\n",
    "    num = int(grade)\n",
    "    if num >= 0 and num <= 59:\n",
    "        print(f\"{num} the range for 'F' is 0-59\")\n",
    "    elif num >= 60 and num <= 66:\n",
    "        print(f\"{num} the range for 'D' is 60-66\")\n",
    "    elif num >= 67 and num <= 79:\n",
    "        print(f\"{num} the range for 'C' is 67-79\")\n",
    "    elif num >= 80 and num <= 87:\n",
    "        print(f\"{num} the range for 'B' is 80-87\")\n",
    "    elif num >= 88 and num <= 100:\n",
    "        print(f\"{num} the range for 'A' is 88-100\")\n",
    "    else:\n",
    "        pass\n"
   ]
  },
  {
   "cell_type": "code",
   "execution_count": 4,
   "id": "26e25235",
   "metadata": {},
   "outputs": [],
   "source": [
    "def grade_template():\n",
    "    more_grades = \"y\"\n",
    "    while more_grades == \"y\":\n",
    "        grade = input(\"what grade did you get on this test?: ---'quit' to exit\")\n",
    "        if grade.isdigit:\n",
    "            num = int(grade)\n",
    "            if num >= 0 and num <= 59:\n",
    "                print(f\"{num} the range for 'F' is 0-59\")\n",
    "                more_grades = input(\"would you like to enter another grade?: 'y' or 'n'\")\n",
    "                break\n",
    "            elif num >= 60 and num <= 66:\n",
    "                print(f\"{num} the range for 'D' is 60-66\")\n",
    "                more_grades = input(\"would you like to enter another grade?: 'y' or 'n'\")\n",
    "                break\n",
    "            elif num >= 67 and num <= 79:\n",
    "                print(f\"{num} the range for 'C' is 67-79\")\n",
    "                more_grades = input(\"would you like to enter another grade?: 'y' or 'n'\")\n",
    "                break\n",
    "            elif num >= 80 and num <= 87:\n",
    "                print(f\"{num} the range for 'B' is 80-87\")\n",
    "                more_grades = input(\"would you like to enter another grade?: 'y' or 'n'\")\n",
    "                break\n",
    "            elif num >= 88 and num <= 100:\n",
    "                print(f\"{num} the range for 'A' is 88-100\")\n",
    "                more_grades = input(\"would you like to enter another grade?: 'y' or 'n'\")\n",
    "                break\n",
    "            else:\n",
    "                pass\n",
    "            "
   ]
  },
  {
   "cell_type": "code",
   "execution_count": 5,
   "id": "f5a42c6e",
   "metadata": {},
   "outputs": [
    {
     "name": "stdout",
     "output_type": "stream",
     "text": [
      "what grade did you get on this test?: ---'quit' to exit78\n",
      "78 the range for 'C' is 67-79\n",
      "would you like to enter another grade?: 'y' or 'n'y\n"
     ]
    }
   ],
   "source": [
    "grade_template()"
   ]
  },
  {
   "cell_type": "code",
   "execution_count": 8,
   "id": "dacae8f2",
   "metadata": {},
   "outputs": [
    {
     "name": "stdout",
     "output_type": "stream",
     "text": [
      "what grade did you get on this test?:(0-100) ---'quit' to exit78\n",
      "78 the range for 'C' is 67-79\n",
      "what grade did you get on this test?:(0-100) ---'quit' to exit88\n",
      "88 the range for 'A' is 88-100\n",
      "what grade did you get on this test?:(0-100) ---'quit' to exit37\n",
      "37 the range for 'F' is 0-59\n",
      "what grade did you get on this test?:(0-100) ---'quit' to exit96\n",
      "96 the range for 'A' is 88-100\n",
      "what grade did you get on this test?:(0-100) ---'quit' to exitquit\n"
     ]
    }
   ],
   "source": [
    "keep_going = True\n",
    "while keep_going == True:\n",
    "    grade = input(\"what grade did you get on this test?:(0-100) ---'quit' to exit\")\n",
    "    if grade.isdigit():\n",
    "        num = int(grade)\n",
    "        if num >= 0 and num <= 59:\n",
    "            print(f\"{num} the range for 'F' is 0-59\")\n",
    "        elif num >= 60 and num <= 66:\n",
    "            print(f\"{num} the range for 'D' is 60-66\")\n",
    "        elif num >= 67 and num <= 79:\n",
    "            print(f\"{num} the range for 'C' is 67-79\")\n",
    "        elif num >= 80 and num <= 87:\n",
    "            print(f\"{num} the range for 'B' is 80-87\")\n",
    "        elif num >= 88 and num <= 100:\n",
    "            print(f\"{num} the range for 'A' is 88-100\")\n",
    "        else:\n",
    "            pass\n",
    "    else:\n",
    "        keep_going = False"
   ]
  },
  {
   "cell_type": "code",
   "execution_count": 25,
   "id": "14f3abe7",
   "metadata": {},
   "outputs": [
    {
     "name": "stdout",
     "output_type": "stream",
     "text": [
      "pick a number preferably 3-10:  ---'quit' to exit7\n",
      "number | squared | cubed\n",
      "-------|---------|------\n",
      " 1     | 1       | 1\n",
      " 2     | 4       | 8\n",
      " 3     | 9       | 27\n",
      " 4     | 16      | 64\n",
      " 5     | 25      | 125\n",
      " 6     | 36      | 216\n",
      "pick a number preferably 3-10:  ---'quit' to exit12\n",
      "number | squared | cubed\n",
      "-------|---------|------\n",
      " 1     | 1       | 1\n",
      " 2     | 4       | 8\n",
      " 3     | 9       | 27\n",
      " 4     | 16      | 64\n",
      " 5     | 25      | 125\n",
      " 6     | 36      | 216\n",
      " 7     | 49      | 343\n",
      " 8     | 64      | 512\n",
      " 9     | 81      | 729\n",
      " 10    | 100     | 1000\n",
      " 11    | 121     | 1331\n",
      "pick a number preferably 3-10:  ---'quit' to exit100\n",
      "number | squared | cubed\n",
      "-------|---------|------\n",
      " 1     | 1       | 1\n",
      " 2     | 4       | 8\n",
      " 3     | 9       | 27\n",
      " 4     | 16      | 64\n",
      " 5     | 25      | 125\n",
      " 6     | 36      | 216\n",
      " 7     | 49      | 343\n",
      " 8     | 64      | 512\n",
      " 9     | 81      | 729\n",
      " 10    | 100     | 1000\n",
      " 11    | 121     | 1331\n",
      " 12    | 144     | 1728\n",
      " 13    | 169     | 2197\n",
      " 14    | 196     | 2744\n",
      " 15    | 225     | 3375\n",
      " 16    | 256     | 4096\n",
      " 17    | 289     | 4913\n",
      " 18    | 324     | 5832\n",
      " 19    | 361     | 6859\n",
      " 20    | 400     | 8000\n",
      " 21    | 441     | 9261\n",
      " 22    | 484     | 10648\n",
      " 23    | 529     | 12167\n",
      " 24    | 576     | 13824\n",
      " 25    | 625     | 15625\n",
      " 26    | 676     | 17576\n",
      " 27    | 729     | 19683\n",
      " 28    | 784     | 21952\n",
      " 29    | 841     | 24389\n",
      " 30    | 900     | 27000\n",
      " 31    | 961     | 29791\n",
      " 32    | 1024    | 32768\n",
      " 33    | 1089    | 35937\n",
      " 34    | 1156    | 39304\n",
      " 35    | 1225    | 42875\n",
      " 36    | 1296    | 46656\n",
      " 37    | 1369    | 50653\n",
      " 38    | 1444    | 54872\n",
      " 39    | 1521    | 59319\n",
      " 40    | 1600    | 64000\n",
      " 41    | 1681    | 68921\n",
      " 42    | 1764    | 74088\n",
      " 43    | 1849    | 79507\n",
      " 44    | 1936    | 85184\n",
      " 45    | 2025    | 91125\n",
      " 46    | 2116    | 97336\n",
      " 47    | 2209    | 103823\n",
      " 48    | 2304    | 110592\n",
      " 49    | 2401    | 117649\n",
      " 50    | 2500    | 125000\n",
      " 51    | 2601    | 132651\n",
      " 52    | 2704    | 140608\n",
      " 53    | 2809    | 148877\n",
      " 54    | 2916    | 157464\n",
      " 55    | 3025    | 166375\n",
      " 56    | 3136    | 175616\n",
      " 57    | 3249    | 185193\n",
      " 58    | 3364    | 195112\n",
      " 59    | 3481    | 205379\n",
      " 60    | 3600    | 216000\n",
      " 61    | 3721    | 226981\n",
      " 62    | 3844    | 238328\n",
      " 63    | 3969    | 250047\n",
      " 64    | 4096    | 262144\n",
      " 65    | 4225    | 274625\n",
      " 66    | 4356    | 287496\n",
      " 67    | 4489    | 300763\n",
      " 68    | 4624    | 314432\n",
      " 69    | 4761    | 328509\n",
      " 70    | 4900    | 343000\n",
      " 71    | 5041    | 357911\n",
      " 72    | 5184    | 373248\n",
      " 73    | 5329    | 389017\n",
      " 74    | 5476    | 405224\n",
      " 75    | 5625    | 421875\n",
      " 76    | 5776    | 438976\n",
      " 77    | 5929    | 456533\n",
      " 78    | 6084    | 474552\n",
      " 79    | 6241    | 493039\n",
      " 80    | 6400    | 512000\n",
      " 81    | 6561    | 531441\n",
      " 82    | 6724    | 551368\n",
      " 83    | 6889    | 571787\n",
      " 84    | 7056    | 592704\n",
      " 85    | 7225    | 614125\n",
      " 86    | 7396    | 636056\n",
      " 87    | 7569    | 658503\n",
      " 88    | 7744    | 681472\n",
      " 89    | 7921    | 704969\n",
      " 90    | 8100    | 729000\n",
      " 91    | 8281    | 753571\n",
      " 92    | 8464    | 778688\n",
      " 93    | 8649    | 804357\n",
      " 94    | 8836    | 830584\n",
      " 95    | 9025    | 857375\n",
      " 96    | 9216    | 884736\n",
      " 97    | 9409    | 912673\n",
      " 98    | 9604    | 941192\n",
      " 99    | 9801    | 970299\n",
      "pick a number preferably 3-10:  ---'quit' to exitquit\n"
     ]
    }
   ],
   "source": [
    "keep_going = True\n",
    "while keep_going == True:\n",
    "    i = input(\"pick a number preferably 3-10:  ---'quit' to exit\")\n",
    "    if i.isdigit():\n",
    "        print(\"number | squared | cubed\")\n",
    "        print(\"-------|---------|------\")\n",
    "        for num in range(1,int(i)):\n",
    "            print(f\" {num: <4}  | {num ** 2: <6}  | {num ** 3}\")\n",
    "    else:\n",
    "        keep_going = False"
   ]
  },
  {
   "cell_type": "code",
   "execution_count": 1,
   "id": "446b47c0",
   "metadata": {},
   "outputs": [],
   "source": [
    "def grade_template():\n",
    "    more_grades = \"y\"\n",
    "    while more_grades == \"y\":\n",
    "        grade = input(\"what grade did you get on this test?: ---'quit' to exit\")\n",
    "        if grade.isdigit:\n",
    "            num = int(grade)\n",
    "            if num >= 0 and num <= 59:\n",
    "                if num >= 55:\n",
    "                    print(f\"{num} the range for 'F+' is 55-59\")\n",
    "                else:\n",
    "                    print(f\"{num} the range for 'F' is 0-54\")\n",
    "            elif num >= 60 and num <= 66:\n",
    "                if num <= 62:\n",
    "                    print(f\"{num} the range for 'd-' is 60-62\")\n",
    "                elif num >= 64:\n",
    "                    print(f\"{num} the range for 'd+' is 64-66\")\n",
    "                else:\n",
    "                    print(f\"{num} the range for 'd' is 63\")\n",
    "            elif num >= 67 and num <= 79:\n",
    "                if num <= 69:\n",
    "                    print(f\"{num} the range for 'c-' is 67-69\")\n",
    "                elif num >= 77:\n",
    "                    print(f\"{num} the range for 'c+' is 77-79\")\n",
    "                else:\n",
    "                    print(f\"{num} the range for 'c' is 70-76\")\n",
    "            elif num >= 80 and num <= 87:\n",
    "                if num <= 82:\n",
    "                    print(f\"{num} the range for 'b-' is 80-82\")\n",
    "                elif num >= 85:\n",
    "                    print(f\"{num} the range for 'b+' is 85-87\")\n",
    "                else:\n",
    "                    print(f\"{num} the range for 'b' is 83-84\")\n",
    "            elif num >= 88 and num <= 100:\n",
    "                if num <= 90:\n",
    "                    print(f\"{num} the range for 'a-' is 88-90\")\n",
    "                elif num >= 98:\n",
    "                    print(f\"{num} the range for 'a+' is 98-100\")\n",
    "                else:\n",
    "                    print(f\"{num} the range for 'a' is 91-97\")\n",
    "            else:\n",
    "                pass"
   ]
  },
  {
   "cell_type": "code",
   "execution_count": null,
   "id": "d6cb3bd6",
   "metadata": {},
   "outputs": [
    {
     "name": "stdout",
     "output_type": "stream",
     "text": [
      "what grade did you get on this test?: ---'quit' to exit92\n",
      "92 the range for 'a' is 91-97\n",
      "what grade did you get on this test?: ---'quit' to exit90\n",
      "90 the range for 'a-' is 88-90\n",
      "what grade did you get on this test?: ---'quit' to exit31\n",
      "31 the range for 'F' is 0-54\n",
      "what grade did you get on this test?: ---'quit' to exit55\n",
      "55 the range for 'F+' is 55-59\n",
      "what grade did you get on this test?: ---'quit' to exit21\n",
      "21 the range for 'F' is 0-54\n",
      "what grade did you get on this test?: ---'quit' to exit100\n",
      "100 the range for 'a+' is 98-100\n",
      "what grade did you get on this test?: ---'quit' to exit105\n",
      "what grade did you get on this test?: ---'quit' to exit89\n",
      "89 the range for 'a-' is 88-90\n"
     ]
    }
   ],
   "source": [
    "grade_template()"
   ]
  },
  {
   "cell_type": "code",
   "execution_count": 4,
   "id": "e2b1aa08",
   "metadata": {},
   "outputs": [],
   "source": [
    "students = [\n",
    "    {\n",
    "        \"id\": \"100001\",\n",
    "        \"student\": \"Ada Lovelace\",\n",
    "        \"coffee_preference\": \"light\",\n",
    "        \"course\": \"web development\",\n",
    "        \"grades\": [70, 91, 82, 71],\n",
    "        \"pets\": [{\"species\": \"horse\", \"age\": 8}],\n",
    "    },\n",
    "    {\n",
    "        \"id\": \"100002\",\n",
    "        \"student\": \"Thomas Bayes\",\n",
    "        \"coffee_preference\": \"medium\",\n",
    "        \"course\": \"data science\",\n",
    "        \"grades\": [75, 73, 86, 100],\n",
    "        \"pets\": [],\n",
    "    },\n",
    "    {\n",
    "        \"id\": \"100003\",\n",
    "        \"student\": \"Marie Curie\",\n",
    "        \"coffee_preference\": \"light\",\n",
    "        \"course\": \"web development\",\n",
    "        \"grades\": [70, 89, 69, 65],\n",
    "        \"pets\": [{\"species\": \"cat\", \"age\": 0}],\n",
    "    },\n",
    "    {\n",
    "        \"id\": \"100004\",\n",
    "        \"student\": \"Grace Hopper\",\n",
    "        \"coffee_preference\": \"dark\",\n",
    "        \"course\": \"data science\",\n",
    "        \"grades\": [73, 66, 83, 92],\n",
    "        \"pets\": [{\"species\": \"dog\", \"age\": 4}, {\"species\": \"cat\", \"age\": 4}],\n",
    "    },\n",
    "    {\n",
    "        \"id\": \"100005\",\n",
    "        \"student\": \"Alan Turing\",\n",
    "        \"coffee_preference\": \"dark\",\n",
    "        \"course\": \"web development\",\n",
    "        \"grades\": [78, 98, 85, 65],\n",
    "        \"pets\": [\n",
    "            {\"species\": \"horse\", \"age\": 6},\n",
    "            {\"species\": \"horse\", \"age\": 7},\n",
    "            {\"species\": \"dog\", \"age\": 5},\n",
    "        ],\n",
    "    },\n",
    "    {\n",
    "        \"id\": \"100006\",\n",
    "        \"student\": \"Rosalind Franklin\",\n",
    "        \"coffee_preference\": \"dark\",\n",
    "        \"course\": \"data science\",\n",
    "        \"grades\": [76, 70, 96, 81],\n",
    "        \"pets\": [],\n",
    "    },\n",
    "    {\n",
    "        \"id\": \"100007\",\n",
    "        \"student\": \"Elizabeth Blackwell\",\n",
    "        \"coffee_preference\": \"dark\",\n",
    "        \"course\": \"web development\",\n",
    "        \"grades\": [69, 94, 89, 86],\n",
    "        \"pets\": [{\"species\": \"cat\", \"age\": 10}],\n",
    "    },\n",
    "    {\n",
    "        \"id\": \"100008\",\n",
    "        \"student\": \"Rene Descartes\",\n",
    "        \"coffee_preference\": \"medium\",\n",
    "        \"course\": \"data science\",\n",
    "        \"grades\": [87, 79, 90, 99],\n",
    "        \"pets\": [{\"species\": \"cat\", \"age\": 10}, {\"species\": \"cat\", \"age\": 8}],\n",
    "    },\n",
    "    {\n",
    "        \"id\": \"100009\",\n",
    "        \"student\": \"Ahmed Zewail\",\n",
    "        \"coffee_preference\": \"medium\",\n",
    "        \"course\": \"data science\",\n",
    "        \"grades\": [74, 99, 93, 89],\n",
    "        \"pets\": [{\"species\": \"cat\", \"age\": 0}, {\"species\": \"cat\", \"age\": 0}],\n",
    "    },\n",
    "    {\n",
    "        \"id\": \"100010\",\n",
    "        \"student\": \"Chien-Shiung Wu\",\n",
    "        \"coffee_preference\": \"medium\",\n",
    "        \"course\": \"web development\",\n",
    "        \"grades\": [82, 92, 91, 65],\n",
    "        \"pets\": [{\"species\": \"cat\", \"age\": 8}],\n",
    "    },\n",
    "    {\n",
    "        \"id\": \"100011\",\n",
    "        \"student\": \"William Sanford Nye\",\n",
    "        \"coffee_preference\": \"dark\",\n",
    "        \"course\": \"data science\",\n",
    "        \"grades\": [70, 92, 65, 99],\n",
    "        \"pets\": [{\"species\": \"cat\", \"age\": 8}, {\"species\": \"cat\", \"age\": 5}],\n",
    "    },\n",
    "    {\n",
    "        \"id\": \"100012\",\n",
    "        \"student\": \"Carl Sagan\",\n",
    "        \"coffee_preference\": \"medium\",\n",
    "        \"course\": \"data science\",\n",
    "        \"grades\": [100, 86, 91, 87],\n",
    "        \"pets\": [{\"species\": \"cat\", \"age\": 10}],\n",
    "    },\n",
    "    {\n",
    "        \"id\": \"100013\",\n",
    "        \"student\": \"Jane Goodall\",\n",
    "        \"coffee_preference\": \"light\",\n",
    "        \"course\": \"web development\",\n",
    "        \"grades\": [80, 70, 68, 98],\n",
    "        \"pets\": [{\"species\": \"horse\", \"age\": 4}],\n",
    "    },\n",
    "    {\n",
    "        \"id\": \"100014\",\n",
    "        \"student\": \"Richard Feynman\",\n",
    "        \"coffee_preference\": \"medium\",\n",
    "        \"course\": \"web development\",\n",
    "        \"grades\": [73, 99, 86, 98],\n",
    "        \"pets\": [{\"species\": \"dog\", \"age\": 6}],\n",
    "    },\n",
    "]\n"
   ]
  },
  {
   "cell_type": "code",
   "execution_count": 5,
   "id": "8c4d08c5",
   "metadata": {},
   "outputs": [],
   "source": [
    "def unique_animal_list(students):\n",
    "    i = 0\n",
    "    animal_list = []\n",
    "    \n",
    "    while i <= len(students)-1:\n",
    "        holder = (students[i])\n",
    "        if len(holder[\"pets\"]) > 1:\n",
    "            animal_list.append(holder[\"pets\"][0][\"species\"])\n",
    "            i += 1\n",
    "        else:\n",
    "            i+= 1\n",
    "        \n",
    "    return set(animal_list)"
   ]
  },
  {
   "cell_type": "code",
   "execution_count": 6,
   "id": "cf3a76b6",
   "metadata": {},
   "outputs": [
    {
     "data": {
      "text/plain": [
       "{'cat', 'dog', 'horse'}"
      ]
     },
     "execution_count": 6,
     "metadata": {},
     "output_type": "execute_result"
    }
   ],
   "source": [
    "unique_animal_list(students)"
   ]
  },
  {
   "cell_type": "code",
   "execution_count": 7,
   "id": "2138c61c",
   "metadata": {},
   "outputs": [
    {
     "data": {
      "text/plain": [
       "3"
      ]
     },
     "execution_count": 7,
     "metadata": {},
     "output_type": "execute_result"
    }
   ],
   "source": [
    "def light_coffee_count(students):\n",
    "    i = 0\n",
    "    light_count = 0\n",
    "    while i < len(students):\n",
    "        if students[i][\"coffee_preference\"] == \"light\":\n",
    "            light_count += 1\n",
    "            i += 1\n",
    "        else:\n",
    "            i += 1\n",
    "            \n",
    "    return light_count\n",
    "\n",
    "light_coffee_count(students)"
   ]
  },
  {
   "cell_type": "code",
   "execution_count": 8,
   "id": "3d44716c",
   "metadata": {},
   "outputs": [
    {
     "data": {
      "text/plain": [
       "{'cat', 'dog', 'horse'}"
      ]
     },
     "execution_count": 8,
     "metadata": {},
     "output_type": "execute_result"
    }
   ],
   "source": [
    "def unique_animal_list(students):\n",
    "    i = 0\n",
    "    animal_list = []\n",
    "    \n",
    "    while i <= len(students)-1:\n",
    "        holder = (students[i])\n",
    "        if len(holder[\"pets\"]) > 1:\n",
    "            animal_list.append(holder[\"pets\"][0][\"species\"])\n",
    "            i += 1\n",
    "        else:\n",
    "            i+= 1\n",
    "        \n",
    "    return set(animal_list)\n",
    "\n",
    "unique_animal_list(students)"
   ]
  },
  {
   "cell_type": "code",
   "execution_count": 9,
   "id": "e1c8cea8",
   "metadata": {},
   "outputs": [
    {
     "data": {
      "text/plain": [
       "[4, 4, 4, 4, 4, 4, 4, 4, 4, 4, 4, 4, 4, 4]"
      ]
     },
     "execution_count": 9,
     "metadata": {},
     "output_type": "execute_result"
    }
   ],
   "source": [
    "def grade_count(students):\n",
    "    grade_count = []\n",
    "    for student in students:\n",
    "        grade_count.append(len(student[\"grades\"]))\n",
    "    return grade_count\n",
    "\n",
    "grade_count(students)"
   ]
  },
  {
   "cell_type": "code",
   "execution_count": 10,
   "id": "eed29cb3",
   "metadata": {},
   "outputs": [
    {
     "data": {
      "text/plain": [
       "[78.5,\n",
       " 83.5,\n",
       " 73.25,\n",
       " 78.5,\n",
       " 81.5,\n",
       " 80.75,\n",
       " 84.5,\n",
       " 88.75,\n",
       " 88.75,\n",
       " 82.5,\n",
       " 81.5,\n",
       " 91.0,\n",
       " 79.0,\n",
       " 89.0]"
      ]
     },
     "execution_count": 10,
     "metadata": {},
     "output_type": "execute_result"
    }
   ],
   "source": [
    "def grade_avg(students):\n",
    "    student_grade_avg = []\n",
    "    for student in students:\n",
    "        grade_total = 0\n",
    "        for grade in student[\"grades\"]:\n",
    "            grade_total += int(grade)\n",
    "        avg_grade = grade_total\n",
    "        student_grade_avg.append(avg_grade/4)\n",
    "    return student_grade_avg\n",
    "\n",
    "grade_avg(students)"
   ]
  },
  {
   "cell_type": "code",
   "execution_count": 11,
   "id": "80f9f383",
   "metadata": {},
   "outputs": [
    {
     "data": {
      "text/plain": [
       "[1, 0, 1, 2, 3, 0, 1, 2, 2, 1, 2, 1, 1, 1]"
      ]
     },
     "execution_count": 11,
     "metadata": {},
     "output_type": "execute_result"
    }
   ],
   "source": [
    "def pet_count(students):\n",
    "    pet_count_list = []\n",
    "    for student in students:\n",
    "        pet_count_list.append(len(student[\"pets\"]))\n",
    "    return pet_count_list\n",
    "\n",
    "pet_count(students)"
   ]
  },
  {
   "cell_type": "code",
   "execution_count": 12,
   "id": "a1fa5c81",
   "metadata": {},
   "outputs": [
    {
     "data": {
      "text/plain": [
       "'7 students in web dev and 7 students in data sci'"
      ]
     },
     "execution_count": 12,
     "metadata": {},
     "output_type": "execute_result"
    }
   ],
   "source": [
    "def class_count(students):\n",
    "    web_dev_count = 0\n",
    "    data_sci_count = 0\n",
    "    for student in students:\n",
    "        if student[\"course\"] == \"web development\":\n",
    "            web_dev_count += 1\n",
    "        elif student[\"course\"] == \"data science\":\n",
    "            data_sci_count += 1\n",
    "        else:\n",
    "            pass\n",
    "    return (f\"{web_dev_count} students in web dev and {data_sci_count} students in data sci\")\n",
    "\n",
    "class_count(students)"
   ]
  },
  {
   "cell_type": "code",
   "execution_count": 13,
   "id": "4bf1ae30",
   "metadata": {},
   "outputs": [
    {
     "data": {
      "text/plain": [
       "1.2857142857142858"
      ]
     },
     "execution_count": 13,
     "metadata": {},
     "output_type": "execute_result"
    }
   ],
   "source": [
    "def pets_for_web_dev_students(students):\n",
    "    pet_count = 0\n",
    "    web_dev_student = 0\n",
    "    for student in students:\n",
    "        if student[\"course\"] == \"web development\":\n",
    "            pet_count += len(student[\"pets\"])\n",
    "            web_dev_student += 1\n",
    "    return pet_count / web_dev_student\n",
    "\n",
    "pets_for_web_dev_students(students)"
   ]
  },
  {
   "cell_type": "code",
   "execution_count": 14,
   "id": "f4b0c760",
   "metadata": {},
   "outputs": [
    {
     "data": {
      "text/plain": [
       "5.444444444444445"
      ]
     },
     "execution_count": 14,
     "metadata": {},
     "output_type": "execute_result"
    }
   ],
   "source": [
    "def pet_age_data_science_students(students):\n",
    "    num_of_pets = 0\n",
    "    total_pet_age = 0\n",
    "    for student in students:\n",
    "        if student[\"course\"] == \"data science\":\n",
    "            num_of_pets += len(student[\"pets\"])\n",
    "            for pet in student[\"pets\"]:\n",
    "                total_pet_age += pet[\"age\"]\n",
    "    return total_pet_age / num_of_pets\n",
    "            \n",
    "pet_age_data_science_students(students)"
   ]
  },
  {
   "cell_type": "code",
   "execution_count": 15,
   "id": "b7c72492",
   "metadata": {},
   "outputs": [
    {
     "data": {
      "text/plain": [
       "('0 light, 4 medium, 3 dark', 4)"
      ]
     },
     "execution_count": 15,
     "metadata": {},
     "output_type": "execute_result"
    }
   ],
   "source": [
    "def data_sci_coffee_pref(students):\n",
    "    light_count = 0\n",
    "    medium_count = 0\n",
    "    dark_count = 0\n",
    "    coffee_count = []\n",
    "    for student in students:\n",
    "        if student[\"course\"] == \"data science\":\n",
    "            if student[\"coffee_preference\"] == \"light\":\n",
    "                light_count += 1\n",
    "            elif student[\"coffee_preference\"] == \"medium\":\n",
    "                medium_count += 1\n",
    "            elif student[\"coffee_preference\"] == \"dark\":\n",
    "                dark_count += 1\n",
    "    coffee_count.append(light_count)\n",
    "    coffee_count.append(medium_count)\n",
    "    coffee_count.append(dark_count)\n",
    "    return f\"{coffee_count[0]} light, {coffee_count[1]} medium, {coffee_count[2]} dark\" , max(coffee_count)\n",
    "\n",
    "data_sci_coffee_pref(students)"
   ]
  },
  {
   "cell_type": "code",
   "execution_count": 16,
   "id": "e6a30e79",
   "metadata": {},
   "outputs": [
    {
     "data": {
      "text/plain": [
       "('3 light, 2 medium, 2 dark', 2)"
      ]
     },
     "execution_count": 16,
     "metadata": {},
     "output_type": "execute_result"
    }
   ],
   "source": [
    "def web_dev_least_coffee_pref(students):\n",
    "    light_count = 0\n",
    "    medium_count = 0\n",
    "    dark_count = 0\n",
    "    coffee_count = []\n",
    "    for student in students:\n",
    "        if student[\"course\"] == \"web development\":\n",
    "            if student[\"coffee_preference\"] == \"light\":\n",
    "                light_count += 1\n",
    "            elif student[\"coffee_preference\"] == \"medium\":\n",
    "                medium_count += 1\n",
    "            elif student[\"coffee_preference\"] == \"dark\":\n",
    "                dark_count += 1\n",
    "    coffee_count.append(light_count)\n",
    "    coffee_count.append(medium_count)\n",
    "    coffee_count.append(dark_count)\n",
    "    return f\"{coffee_count[0]} light, {coffee_count[1]} medium, {coffee_count[2]} dark\" , min(coffee_count)\n",
    "\n",
    "web_dev_least_coffee_pref(students)"
   ]
  },
  {
   "cell_type": "code",
   "execution_count": 17,
   "id": "5e49b80f",
   "metadata": {},
   "outputs": [
    {
     "data": {
      "text/plain": [
       "83.8"
      ]
     },
     "execution_count": 17,
     "metadata": {},
     "output_type": "execute_result"
    }
   ],
   "source": [
    "def avg_grade_two_pets(students):\n",
    "    total_grade = 0\n",
    "    num_of_grades = 0\n",
    "    for student in students:\n",
    "        if len(student[\"pets\"]) >= 2:\n",
    "            for grade in student[\"grades\"]:\n",
    "                num_of_grades += 1\n",
    "                total_grade += grade\n",
    "    return (total_grade/num_of_grades)\n",
    "\n",
    "avg_grade_two_pets(students)"
   ]
  },
  {
   "cell_type": "code",
   "execution_count": 18,
   "id": "39ec932d",
   "metadata": {},
   "outputs": [
    {
     "data": {
      "text/plain": [
       "1"
      ]
     },
     "execution_count": 18,
     "metadata": {},
     "output_type": "execute_result"
    }
   ],
   "source": [
    "def students_with_three_pets(students):\n",
    "    student_count = 0\n",
    "    for student in students:\n",
    "        if len(student[\"pets\"]) == 3:\n",
    "            student_count += 1\n",
    "    return student_count\n",
    "\n",
    "students_with_three_pets(students)"
   ]
  },
  {
   "cell_type": "code",
   "execution_count": 19,
   "id": "a055f2b9",
   "metadata": {},
   "outputs": [
    {
     "data": {
      "text/plain": [
       "82.125"
      ]
     },
     "execution_count": 19,
     "metadata": {},
     "output_type": "execute_result"
    }
   ],
   "source": [
    "def avg_grade_students_zero_pets(students):\n",
    "    grade_total = 0\n",
    "    grade_count = 0\n",
    "    for student in students:\n",
    "        if len(student[\"pets\"]) == 0:\n",
    "            for grade in student[\"grades\"]:\n",
    "                grade_count += 1\n",
    "                grade_total += grade\n",
    "    return grade_total / grade_count\n",
    "\n",
    "avg_grade_students_zero_pets(students)"
   ]
  },
  {
   "cell_type": "code",
   "execution_count": 20,
   "id": "61837043",
   "metadata": {},
   "outputs": [
    {
     "data": {
      "text/plain": [
       "'datascience avg grade is 84.67857142857143, web development avg grade is 81.17857142857143'"
      ]
     },
     "execution_count": 20,
     "metadata": {},
     "output_type": "execute_result"
    }
   ],
   "source": [
    "def avg_grade_per_class(students):\n",
    "    #ds = datascience\n",
    "    #wd = webdev\n",
    "    ds_total_grade = 0\n",
    "    ds_grade_count = 0\n",
    "    wd_total_grade = 0\n",
    "    wd_grade_count = 0\n",
    "    for student in students:\n",
    "        if student[\"course\"] == \"data science\":\n",
    "            for grade in student[\"grades\"]:\n",
    "                ds_grade_count += 1\n",
    "                ds_total_grade += grade\n",
    "        elif student[\"course\"] == \"web development\":\n",
    "            for grade in student[\"grades\"]:\n",
    "                wd_grade_count += 1\n",
    "                wd_total_grade += grade\n",
    "                \n",
    "    ds_avg_grade = ds_total_grade / ds_grade_count\n",
    "    wd_avg_grade = wd_total_grade / wd_grade_count\n",
    "    return(f\"datascience avg grade is {ds_avg_grade}, web development avg grade is {wd_avg_grade}\")\n",
    "\n",
    "avg_grade_per_class(students)"
   ]
  },
  {
   "cell_type": "code",
   "execution_count": 21,
   "id": "bb6ff4ea",
   "metadata": {},
   "outputs": [
    {
     "data": {
      "text/plain": [
       "range(65, 99)"
      ]
     },
     "execution_count": 21,
     "metadata": {},
     "output_type": "execute_result"
    }
   ],
   "source": [
    "def avg_grade_range_dark_coffee_drinker(students):\n",
    "    min_grade = 100\n",
    "    max_grade = 0\n",
    "\n",
    "    for student in students:\n",
    "        if student[\"coffee_preference\"] == \"dark\":\n",
    "            for grade in student[\"grades\"]:\n",
    "                if min_grade > grade:\n",
    "                    min_grade = grade\n",
    "                elif max_grade < grade:\n",
    "                    max_grade = grade\n",
    "\n",
    "    return range(min_grade,max_grade)\n",
    "\n",
    "avg_grade_range_dark_coffee_drinker(students)"
   ]
  },
  {
   "cell_type": "code",
   "execution_count": 22,
   "id": "9ecc22ae",
   "metadata": {},
   "outputs": [
    {
     "data": {
      "text/plain": [
       "1.1666666666666667"
      ]
     },
     "execution_count": 22,
     "metadata": {},
     "output_type": "execute_result"
    }
   ],
   "source": [
    "def avg_num_pets_med_coffee(students):\n",
    "    total_num_pets = 0\n",
    "    number_of_students = 0\n",
    "    for student in students:\n",
    "        if student[\"coffee_preference\"] == \"medium\":\n",
    "            number_of_students += 1\n",
    "            total_num_pets += len(student[\"pets\"])\n",
    "    return total_num_pets / number_of_students\n",
    "\n",
    "avg_num_pets_med_coffee (students)"
   ]
  },
  {
   "cell_type": "code",
   "execution_count": 23,
   "id": "27cb41f5",
   "metadata": {},
   "outputs": [
    {
     "data": {
      "text/plain": [
       "'4 horses, 3 cats, 2 dogs and the most was 4'"
      ]
     },
     "execution_count": 23,
     "metadata": {},
     "output_type": "execute_result"
    }
   ],
   "source": [
    "def common_pet_wd_students(students):\n",
    "    horse = 0\n",
    "    cat = 0\n",
    "    dog = 0\n",
    "    compare = []\n",
    "    for student in students:\n",
    "        if student[\"course\"] == \"web development\":\n",
    "            for pet in student[\"pets\"]:\n",
    "                if pet[\"species\"] == \"horse\":\n",
    "                    horse += 1\n",
    "                elif pet[\"species\"] == \"cat\":\n",
    "                    cat += 1\n",
    "                elif pet[\"species\"] == \"dog\":\n",
    "                    dog += 1\n",
    "    compare.append(horse)\n",
    "    compare.append(cat)\n",
    "    compare.append(dog)\n",
    "    return(f\"{horse} horses, {cat} cats, {dog} dogs and the most was {max(compare)}\")\n",
    "        \n",
    "common_pet_wd_students(students)"
   ]
  },
  {
   "cell_type": "code",
   "execution_count": 24,
   "id": "7c66f815",
   "metadata": {},
   "outputs": [],
   "source": [
    "def avg_name_length(students):\n",
    "    letters_in_all_names = 0\n",
    "    num_of_students = 0\n",
    "    for student in students:\n",
    "        num_of_students += 1\n",
    "        name = student[\"student\"]\n",
    "        for letter in name:\n",
    "            if letter.isalpha():\n",
    "                letters_in_all_names += 1\n",
    "            else:\n",
    "                pass\n",
    "    return letters_in_all_names / num_of_students"
   ]
  },
  {
   "cell_type": "code",
   "execution_count": 25,
   "id": "44cd5d3d",
   "metadata": {},
   "outputs": [
    {
     "data": {
      "text/plain": [
       "12.5"
      ]
     },
     "execution_count": 25,
     "metadata": {},
     "output_type": "execute_result"
    }
   ],
   "source": [
    "avg_name_length(students)"
   ]
  },
  {
   "cell_type": "code",
   "execution_count": 26,
   "id": "484214ec",
   "metadata": {},
   "outputs": [],
   "source": [
    "def highest_pet_age_light_coffee_drinkers(students):\n",
    "    highest_pet_age = 0\n",
    "    for student in students:\n",
    "        if student[\"coffee_preference\"] == \"light\":\n",
    "            for pet in student[\"pets\"]:\n",
    "                if int(pet[\"age\"]) > highest_pet_age:\n",
    "                    highest_pet_age = int(pet[\"age\"])\n",
    "    return highest_pet_age"
   ]
  },
  {
   "cell_type": "code",
   "execution_count": 27,
   "id": "f5ad3bab",
   "metadata": {},
   "outputs": [
    {
     "data": {
      "text/plain": [
       "8"
      ]
     },
     "execution_count": 27,
     "metadata": {},
     "output_type": "execute_result"
    }
   ],
   "source": [
    "highest_pet_age_light_coffee_drinkers(students)"
   ]
  },
  {
   "cell_type": "code",
   "execution_count": 28,
   "id": "5a0e765a",
   "metadata": {},
   "outputs": [
    {
     "data": {
      "text/plain": [
       "12.571428571428571"
      ]
     },
     "execution_count": 28,
     "metadata": {},
     "output_type": "execute_result"
    }
   ],
   "source": [
    "def avg_name_length(students):\n",
    "    letters_in_all_names = 0\n",
    "    num_of_students = 0\n",
    "    for student in students:\n",
    "        num_of_students += 1\n",
    "        name = student[\"student\"]\n",
    "        for letter in name:\n",
    "            if letter.isalpha() or letter == \"-\":\n",
    "                letters_in_all_names += 1\n",
    "            else:\n",
    "                pass\n",
    "    return letters_in_all_names / num_of_students\n",
    "\n",
    "avg_name_length(students)"
   ]
  },
  {
   "cell_type": "code",
   "execution_count": 30,
   "id": "67f42024",
   "metadata": {},
   "outputs": [
    {
     "data": {
      "text/plain": [
       "13.642857142857142"
      ]
     },
     "execution_count": 30,
     "metadata": {},
     "output_type": "execute_result"
    }
   ],
   "source": [
    "def avg_name_length(students):\n",
    "    letters = 0\n",
    "    num_of_students = 0\n",
    "    for student in students:\n",
    "        num_of_students += 1\n",
    "        letters += len(student[\"student\"])\n",
    "    return letters / num_of_students\n",
    "\n",
    "avg_name_length(students)"
   ]
  },
  {
   "cell_type": "code",
   "execution_count": 36,
   "id": "ea4988ab",
   "metadata": {},
   "outputs": [
    {
     "name": "stdout",
     "output_type": "stream",
     "text": [
      "pick a number 1-10:7\n",
      "7 X 1 = 7\n",
      "7 X 2 = 14\n",
      "7 X 3 = 21\n",
      "7 X 4 = 28\n",
      "7 X 5 = 35\n",
      "7 X 6 = 42\n",
      "7 X 7 = 49\n",
      "7 X 8 = 56\n",
      "7 X 9 = 63\n",
      "7 X 10 = 70\n"
     ]
    }
   ],
   "source": [
    "i = input(\"pick a number 1-10:\") # Saving the variable of the user input\n",
    "i = int(i) # changing the input from a string into an integer\n",
    "for num in range(1,11): # taking the range needed\n",
    "    print(f\"{i} X {num} = {i * num}\")\n",
    "    # inside the brackets you're changing the int value back into a string"
   ]
  },
  {
   "cell_type": "code",
   "execution_count": 43,
   "id": "790bb577",
   "metadata": {},
   "outputs": [],
   "source": [
    "books = [\n",
    "    {\n",
    "        \"title\": \"The Subtle Art of Not Giving a F*ck\",\n",
    "        \"author\": \"Mark Manson\",\n",
    "        \"genre's\": [\"Self-help book\"]\n",
    "    },\n",
    "    {\n",
    "        \"title\": \"Breath\",\n",
    "        \"author\": \"James Nestor\",\n",
    "        \"genre's\": [\"Self-help book\", \"Creative nonfiction\"]\n",
    "    },\n",
    "    {\n",
    "        \"title\": \"1984\",\n",
    "        \"author\": \"George Orwell\",\n",
    "        \"genre's\": [\"Science fiction\",\"political fiction\",\"Dystopian fiction\",\"Social science fiction\"]\n",
    "    }\n",
    "]"
   ]
  },
  {
   "cell_type": "code",
   "execution_count": 45,
   "id": "644b1cbf",
   "metadata": {},
   "outputs": [
    {
     "name": "stdout",
     "output_type": "stream",
     "text": [
      "pick a genreSelf-help book\n"
     ]
    }
   ],
   "source": [
    "user_genre = input(\"pick a genre\")"
   ]
  },
  {
   "cell_type": "code",
   "execution_count": 46,
   "id": "eb016676",
   "metadata": {
    "scrolled": true
   },
   "outputs": [
    {
     "name": "stdout",
     "output_type": "stream",
     "text": [
      "{'title': 'The Subtle Art of Not Giving a F*ck', 'author': 'Mark Manson', \"genre's\": ['Self-help book']}\n",
      "{'title': 'Breath', 'author': 'James Nestor', \"genre's\": ['Self-help book', 'Creative nonfiction']}\n"
     ]
    }
   ],
   "source": [
    "for book in books:\n",
    "    for genre in book[\"genre's\"]:\n",
    "        if genre == user_genre:\n",
    "            print(book)"
   ]
  },
  {
   "cell_type": "code",
   "execution_count": null,
   "id": "8f46027b",
   "metadata": {},
   "outputs": [],
   "source": []
  }
 ],
 "metadata": {
  "kernelspec": {
   "display_name": "Python 3",
   "language": "python",
   "name": "python3"
  },
  "language_info": {
   "codemirror_mode": {
    "name": "ipython",
    "version": 3
   },
   "file_extension": ".py",
   "mimetype": "text/x-python",
   "name": "python",
   "nbconvert_exporter": "python",
   "pygments_lexer": "ipython3",
   "version": "3.8.8"
  }
 },
 "nbformat": 4,
 "nbformat_minor": 5
}
