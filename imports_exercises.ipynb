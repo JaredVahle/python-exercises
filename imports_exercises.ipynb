{
 "cells": [
  {
   "cell_type": "code",
   "execution_count": 2,
   "id": "fa63cea0",
   "metadata": {},
   "outputs": [],
   "source": [
    "import function_exercises as fe"
   ]
  },
  {
   "cell_type": "code",
   "execution_count": 3,
   "id": "d8ed4d7f",
   "metadata": {},
   "outputs": [
    {
     "data": {
      "text/plain": [
       "False"
      ]
     },
     "execution_count": 3,
     "metadata": {},
     "output_type": "execute_result"
    }
   ],
   "source": [
    "fe.is_vowel(\"h\")"
   ]
  },
  {
   "cell_type": "code",
   "execution_count": 4,
   "id": "f0a11617",
   "metadata": {},
   "outputs": [
    {
     "data": {
      "text/plain": [
       "20.0"
      ]
     },
     "execution_count": 4,
     "metadata": {},
     "output_type": "execute_result"
    }
   ],
   "source": [
    "fe.calculate_tip(100,.2)"
   ]
  },
  {
   "cell_type": "code",
   "execution_count": 5,
   "id": "7a80111a",
   "metadata": {},
   "outputs": [
    {
     "data": {
      "text/plain": [
       "'this_is_a_function'"
      ]
     },
     "execution_count": 5,
     "metadata": {},
     "output_type": "execute_result"
    }
   ],
   "source": [
    "fe.normalize_name(\"    4  ## This is a function\")"
   ]
  },
  {
   "cell_type": "code",
   "execution_count": 6,
   "id": "2bcd47a6",
   "metadata": {},
   "outputs": [],
   "source": [
    "from itertools import combinations,permutations,chain,product"
   ]
  },
  {
   "cell_type": "code",
   "execution_count": 93,
   "id": "f11da64b",
   "metadata": {},
   "outputs": [
    {
     "data": {
      "text/plain": [
       "[('a', 1),\n",
       " ('a', 2),\n",
       " ('a', 3),\n",
       " ('b', 1),\n",
       " ('b', 2),\n",
       " ('b', 3),\n",
       " ('c', 1),\n",
       " ('c', 2),\n",
       " ('c', 3)]"
      ]
     },
     "execution_count": 93,
     "metadata": {},
     "output_type": "execute_result"
    }
   ],
   "source": [
    "list(product(\"abc\",[1,2,3]))"
   ]
  },
  {
   "cell_type": "code",
   "execution_count": 92,
   "id": "231e3712",
   "metadata": {},
   "outputs": [
    {
     "data": {
      "text/plain": [
       "9"
      ]
     },
     "execution_count": 92,
     "metadata": {},
     "output_type": "execute_result"
    }
   ],
   "source": [
    "len(list(product(\"abc\",[1,2,3])))"
   ]
  },
  {
   "cell_type": "code",
   "execution_count": 8,
   "id": "7aecf92b",
   "metadata": {},
   "outputs": [
    {
     "data": {
      "text/plain": [
       "[('a', 'b'), ('a', 'c'), ('a', 'd'), ('b', 'c'), ('b', 'd'), ('c', 'd')]"
      ]
     },
     "execution_count": 8,
     "metadata": {},
     "output_type": "execute_result"
    }
   ],
   "source": [
    "list(combinations(\"abcd\",2))"
   ]
  },
  {
   "cell_type": "code",
   "execution_count": 9,
   "id": "eaba96d1",
   "metadata": {},
   "outputs": [
    {
     "data": {
      "text/plain": [
       "[('a', 'b'),\n",
       " ('a', 'c'),\n",
       " ('a', 'd'),\n",
       " ('b', 'a'),\n",
       " ('b', 'c'),\n",
       " ('b', 'd'),\n",
       " ('c', 'a'),\n",
       " ('c', 'b'),\n",
       " ('c', 'd'),\n",
       " ('d', 'a'),\n",
       " ('d', 'b'),\n",
       " ('d', 'c')]"
      ]
     },
     "execution_count": 9,
     "metadata": {},
     "output_type": "execute_result"
    }
   ],
   "source": [
    "list(permutations(\"abcd\",2))"
   ]
  },
  {
   "cell_type": "code",
   "execution_count": 10,
   "id": "53605338",
   "metadata": {},
   "outputs": [],
   "source": [
    "import json"
   ]
  },
  {
   "cell_type": "code",
   "execution_count": 11,
   "id": "f2c943b0",
   "metadata": {},
   "outputs": [],
   "source": [
    "user = json.load(open('profiles.json'))"
   ]
  },
  {
   "cell_type": "code",
   "execution_count": 12,
   "id": "3c59aaaf",
   "metadata": {},
   "outputs": [
    {
     "data": {
      "text/plain": [
       "19"
      ]
     },
     "execution_count": 12,
     "metadata": {},
     "output_type": "execute_result"
    }
   ],
   "source": [
    "len(json.load(open('profiles.json')))"
   ]
  },
  {
   "cell_type": "code",
   "execution_count": 128,
   "id": "70c19bbf",
   "metadata": {},
   "outputs": [],
   "source": [
    "items = json.load(open('profiles.json'))"
   ]
  },
  {
   "cell_type": "code",
   "execution_count": 129,
   "id": "73f6796c",
   "metadata": {},
   "outputs": [
    {
     "name": "stdout",
     "output_type": "stream",
     "text": [
      "9\n"
     ]
    }
   ],
   "source": [
    "active_user_count = 0\n",
    "for item in items:\n",
    "    if item[\"isActive\"] == True:\n",
    "        active_user_count += 1\n",
    "print(active_user_count)"
   ]
  },
  {
   "cell_type": "code",
   "execution_count": 131,
   "id": "74c4f1cb",
   "metadata": {},
   "outputs": [
    {
     "name": "stdout",
     "output_type": "stream",
     "text": [
      "10\n"
     ]
    }
   ],
   "source": [
    "active_user_count = 0\n",
    "for item in items:\n",
    "    if item[\"isActive\"] == False:\n",
    "        active_user_count += 1\n",
    "print(active_user_count)"
   ]
  },
  {
   "cell_type": "code",
   "execution_count": 136,
   "id": "a0f1da11",
   "metadata": {},
   "outputs": [],
   "source": [
    "def money(money):\n",
    "    new_list = \"\"\n",
    "    for item in money:\n",
    "        holder = item\n",
    "        if holder in \"1234567890.\":\n",
    "            new_list += item\n",
    "    return new_list"
   ]
  },
  {
   "cell_type": "code",
   "execution_count": 137,
   "id": "a0add88c",
   "metadata": {},
   "outputs": [
    {
     "data": {
      "text/plain": [
       "'1000000.02'"
      ]
     },
     "execution_count": 137,
     "metadata": {},
     "output_type": "execute_result"
    }
   ],
   "source": [
    "money(\"1,000,000.02\")"
   ]
  },
  {
   "cell_type": "code",
   "execution_count": 138,
   "id": "d65a44e1",
   "metadata": {},
   "outputs": [
    {
     "name": "stdout",
     "output_type": "stream",
     "text": [
      "52667.02\n"
     ]
    }
   ],
   "source": [
    "total = 0\n",
    "for item in items:\n",
    "    single_balance = float(money(item[\"balance\"]))\n",
    "    total += single_balance\n",
    "    \n",
    "print(total)"
   ]
  },
  {
   "cell_type": "code",
   "execution_count": 157,
   "id": "bd260dbf",
   "metadata": {},
   "outputs": [],
   "source": [
    "def min_balance(items):\n",
    "    user_balance = []\n",
    "    index = -1\n",
    "    for item in items:\n",
    "        user_balance.append(float(money(item[\"balance\"])))\n",
    "    for amount in user_balance:\n",
    "        index += 1\n",
    "        if amount == min(user_balance):\n",
    "            return items[index][\"name\"]"
   ]
  },
  {
   "cell_type": "code",
   "execution_count": 158,
   "id": "be57e7ba",
   "metadata": {},
   "outputs": [
    {
     "data": {
      "text/plain": [
       "'Avery Flynn'"
      ]
     },
     "execution_count": 158,
     "metadata": {},
     "output_type": "execute_result"
    }
   ],
   "source": [
    "min_balance(items)"
   ]
  },
  {
   "cell_type": "code",
   "execution_count": null,
   "id": "65b17829",
   "metadata": {},
   "outputs": [],
   "source": []
  },
  {
   "cell_type": "code",
   "execution_count": 159,
   "id": "f2525a08",
   "metadata": {},
   "outputs": [],
   "source": [
    "def max_balance(items):\n",
    "    user_balance = []\n",
    "    index = -1\n",
    "    for item in items:\n",
    "        user_balance.append(float(money(item[\"balance\"])))\n",
    "    for amount in user_balance:\n",
    "        index += 1\n",
    "        if amount == max(user_balance):\n",
    "            return items[index][\"name\"]\n",
    "            \n",
    "        \n",
    "    \n"
   ]
  },
  {
   "cell_type": "code",
   "execution_count": 160,
   "id": "5cc3ced4",
   "metadata": {},
   "outputs": [
    {
     "data": {
      "text/plain": [
       "'Fay Hammond'"
      ]
     },
     "execution_count": 160,
     "metadata": {},
     "output_type": "execute_result"
    }
   ],
   "source": [
    "max_balance(items)"
   ]
  },
  {
   "cell_type": "code",
   "execution_count": 143,
   "id": "2a5dab55",
   "metadata": {},
   "outputs": [],
   "source": [
    "def most_fruits(items):\n",
    "    counts = {}\n",
    "    for item in items:\n",
    "        if item[\"favoriteFruit\"] in counts.keys():\n",
    "            counts[item[\"favoriteFruit\"]] += 1\n",
    "        else:\n",
    "            counts[item['favoriteFruit']] = 1\n",
    "    return max(counts),counts\n"
   ]
  },
  {
   "cell_type": "code",
   "execution_count": 144,
   "id": "ecc2c188",
   "metadata": {},
   "outputs": [
    {
     "data": {
      "text/plain": [
       "('strawberry', {'strawberry': 9, 'apple': 4, 'banana': 6})"
      ]
     },
     "execution_count": 144,
     "metadata": {},
     "output_type": "execute_result"
    }
   ],
   "source": [
    "most_fruits(users)"
   ]
  },
  {
   "cell_type": "code",
   "execution_count": 145,
   "id": "d5414253",
   "metadata": {},
   "outputs": [],
   "source": [
    "def least_fruits(users):\n",
    "    counts = {}\n",
    "    for item in items:\n",
    "        if item[\"favoriteFruit\"] in counts.keys():\n",
    "            counts[item[\"favoriteFruit\"]] += 1\n",
    "        else:\n",
    "            counts[item['favoriteFruit']] = 1\n",
    "    return min(counts),counts"
   ]
  },
  {
   "cell_type": "code",
   "execution_count": 146,
   "id": "a2e2eb9c",
   "metadata": {},
   "outputs": [
    {
     "data": {
      "text/plain": [
       "('apple', {'strawberry': 9, 'apple': 4, 'banana': 6})"
      ]
     },
     "execution_count": 146,
     "metadata": {},
     "output_type": "execute_result"
    }
   ],
   "source": [
    "least_fruits(users)"
   ]
  },
  {
   "cell_type": "code",
   "execution_count": 154,
   "id": "1722bf19",
   "metadata": {},
   "outputs": [],
   "source": [
    "def num_of_msgs(greeting):\n",
    "    new_list = \"\"\n",
    "    for char in greeting:\n",
    "        holder = char\n",
    "        if holder in \"1234567890\":\n",
    "            new_list += holder\n",
    "    return new_list"
   ]
  },
  {
   "cell_type": "code",
   "execution_count": 155,
   "id": "94a2942a",
   "metadata": {},
   "outputs": [],
   "source": [
    "def messages(items):\n",
    "    each_user_msgs = []\n",
    "    single_user_msgs = 0\n",
    "    total = 0\n",
    "    for item in items:\n",
    "        single_user_msgs = int(num_of_msgs(item[\"greeting\"]))\n",
    "        each_user_msgs.append(int(num_of_msgs(item[\"greeting\"])))\n",
    "        total += single_user_msgs\n",
    "    return total,each_user_msgs"
   ]
  },
  {
   "cell_type": "code",
   "execution_count": 156,
   "id": "886558e4",
   "metadata": {},
   "outputs": [
    {
     "data": {
      "text/plain": [
       "(210, [4, 19, 5, 10, 9, 19, 13, 17, 2, 18, 2, 13, 7, 13, 12, 7, 19, 5, 16])"
      ]
     },
     "execution_count": 156,
     "metadata": {},
     "output_type": "execute_result"
    }
   ],
   "source": [
    "messages(items)"
   ]
  },
  {
   "cell_type": "code",
   "execution_count": null,
   "id": "da421503",
   "metadata": {},
   "outputs": [],
   "source": []
  }
 ],
 "metadata": {
  "kernelspec": {
   "display_name": "Python 3",
   "language": "python",
   "name": "python3"
  },
  "language_info": {
   "codemirror_mode": {
    "name": "ipython",
    "version": 3
   },
   "file_extension": ".py",
   "mimetype": "text/x-python",
   "name": "python",
   "nbconvert_exporter": "python",
   "pygments_lexer": "ipython3",
   "version": "3.8.8"
  }
 },
 "nbformat": 4,
 "nbformat_minor": 5
}
